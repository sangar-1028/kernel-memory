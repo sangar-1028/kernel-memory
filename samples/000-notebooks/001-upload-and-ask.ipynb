{
 "cells": [
  {
   "cell_type": "markdown",
   "metadata": {},
   "source": [
    "# Quick intro to Semantic Memory: install, upload a doc, ask a question\n",
    "\n",
    "This notebook shows the basic usage of Semantic Memory, via the serverless client.\n",
    "\n",
    "First of all, install the Semantic Memory nuget, and the dotenv nuget so we can use secrets stored in a `.env` file."
   ]
  },
  {
   "cell_type": "code",
   "execution_count": null,
   "metadata": {
    "dotnet_interactive": {
     "language": "csharp"
    },
    "polyglot_notebook": {
     "kernelName": "csharp"
    }
   },
   "outputs": [],
   "source": [
    "#r \"nuget: Microsoft.SemanticMemory.Core, 0.0.230818.3-preview\"\n",
    "\n",
    "using Microsoft.SemanticMemory.Core.AI.OpenAI;\n",
    "using Microsoft.SemanticMemory.Core.AppBuilders;\n",
    "using Microsoft.SemanticMemory.Core.Configuration;\n",
    "using Microsoft.SemanticMemory.Core.ContentStorage.FileSystem;\n",
    "using Microsoft.SemanticMemory.Core.MemoryStorage.AzureCognitiveSearch;"
   ]
  },
  {
   "cell_type": "markdown",
   "metadata": {},
   "source": [
    "For our demo, we use also the \"dotenv\" nuget, to load our secret credentials from a `.env` file.\n",
    "Make sure you create your `.env` file, with this content:\n",
    "\n",
    "> ```\n",
    "> OPENAI_API_KEY=<your OpenAI API key>\n",
    "> ACS_ENDPOINT=<your Azure Cognitive Search endpoint>\n",
    "> ACS_API_KEY=<your Azure Cognitive Search API key>\n",
    "> ```"
   ]
  },
  {
   "cell_type": "code",
   "execution_count": null,
   "metadata": {
    "dotnet_interactive": {
     "language": "csharp"
    },
    "polyglot_notebook": {
     "kernelName": "csharp"
    }
   },
   "outputs": [],
   "source": [
    "#r \"nuget: dotenv.net, 3.1.2\"\n",
    "\n",
    "dotenv.net.DotEnv.Load();\n",
    "var env = dotenv.net.DotEnv.Read();"
   ]
  },
  {
   "cell_type": "markdown",
   "metadata": {},
   "source": [
    "Now let's create an instance of Semantic Memory client using the `MemoryClientBuilder` to configure our solution. In this demo we store documents on disk, under a `tmp` folder, we use OpenAI to calculate embeddings and generate text, and Azure Cognitive Search to store embeddings and run vector search."
   ]
  },
  {
   "cell_type": "code",
   "execution_count": null,
   "metadata": {
    "dotnet_interactive": {
     "language": "csharp"
    },
    "polyglot_notebook": {
     "kernelName": "csharp"
    }
   },
   "outputs": [],
   "source": [
    "var memory = new MemoryClientBuilder()\n",
    "    .WithFilesystemStorage(\"tmp\")\n",
    "    .WithOpenAIDefaults(env[\"OPENAI_API_KEY\"])\n",
    "    .WithAzureCognitiveSearch(env[\"ACS_ENDPOINT\"], env[\"ACS_API_KEY\"])\n",
    "    .BuildServerlessClient();"
   ]
  },
  {
   "cell_type": "markdown",
   "metadata": {},
   "source": [
    "At this point we have the memory client ready, we can import data and ask questions!\n",
    "\n",
    "Let's import a PDF file with some details about Semantic Kernel:"
   ]
  },
  {
   "cell_type": "code",
   "execution_count": null,
   "metadata": {
    "dotnet_interactive": {
     "language": "csharp"
    },
    "polyglot_notebook": {
     "kernelName": "csharp"
    }
   },
   "outputs": [],
   "source": [
    "await memory.ImportDocumentAsync(\"sample-SK-Readme.pdf\", documentId: \"doc001\");"
   ]
  },
  {
   "cell_type": "markdown",
   "metadata": {},
   "source": [
    "Now, let's ask a question about Semantic Kernel:"
   ]
  },
  {
   "cell_type": "code",
   "execution_count": null,
   "metadata": {
    "dotnet_interactive": {
     "language": "csharp"
    },
    "polyglot_notebook": {
     "kernelName": "csharp"
    }
   },
   "outputs": [],
   "source": [
    "var question = \"What's Semantic Kernel?\";\n",
    "\n",
    "Console.WriteLine($\"\\n\\nQuestion: {question}\");\n",
    "\n",
    "var answer = await memory.AskAsync(question);\n",
    "\n",
    "Console.WriteLine($\"\\nAnswer: {answer.Result}\");"
   ]
  },
  {
   "cell_type": "markdown",
   "metadata": {},
   "source": [
    "And here show the sources used to generate the answer above, what we call \"citations\":"
   ]
  },
  {
   "cell_type": "code",
   "execution_count": null,
   "metadata": {
    "dotnet_interactive": {
     "language": "csharp"
    },
    "polyglot_notebook": {
     "kernelName": "csharp"
    }
   },
   "outputs": [],
   "source": [
    "Console.WriteLine(\"\\n\\n  Sources:\\n\");\n",
    "\n",
    "foreach (var x in answer.RelevantSources)\n",
    "{\n",
    "    Console.WriteLine($\"  - {x.SourceName}  - {x.Link} [{x.Partitions.First().LastUpdate:D}]\");\n",
    "}"
   ]
  }
 ],
 "metadata": {
  "kernelspec": {
   "display_name": ".NET (C#)",
   "language": "C#",
   "name": ".net-csharp"
  },
  "language_info": {
   "name": "polyglot-notebook"
  },
  "polyglot_notebook": {
   "kernelInfo": {
    "defaultKernelName": "csharp",
    "items": [
     {
      "aliases": [],
      "languageName": "csharp",
      "name": "csharp"
     }
    ]
   }
  }
 },
 "nbformat": 4,
 "nbformat_minor": 2
}
